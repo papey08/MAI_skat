{
 "cells": [
  {
   "cell_type": "code",
   "execution_count": null,
   "id": "dd4efad9",
   "metadata": {},
   "outputs": [],
   "source": [
    "# 1. Выбрать задачу (классификация или регрессия), датасет (пересечений не должно быть - у каждого студента свой датасет) и метрику качества\n"
   ]
  },
  {
   "cell_type": "markdown",
   "metadata": {},
   "source": [
    "# Лабораторная работа №4\n",
    "\n",
    "## Выполнил Попов Матвей, М8О-408Б-20\n"
   ]
  },
  {
   "cell_type": "markdown",
   "metadata": {},
   "source": [
    "В качестве задачи выберем регрессию, а конкретно предсказание цены \n",
    "недвижимости.\n",
    "\n",
    "Датасет доступен по [ссылке](https://www.kaggle.com/datasets/harishkumardatalab/housing-price-prediction/download?datasetVersionNumber=1)\n",
    "\n",
    "Чтобы обучить модели локально, скачайте архив, поместите csv файл из него в \n",
    "директорию `dataset` и переименуйте его в `dataset.csv`.\n"
   ]
  },
  {
   "cell_type": "markdown",
   "metadata": {},
   "source": [
    "Считаем датасет из csv файла"
   ]
  },
  {
   "cell_type": "code",
   "execution_count": 2,
   "id": "8ca5ecd3",
   "metadata": {},
   "outputs": [
    {
     "name": "stdout",
     "output_type": "stream",
     "text": [
      "<class 'pandas.core.frame.DataFrame'>\n",
      "RangeIndex: 545 entries, 0 to 544\n",
      "Data columns (total 13 columns):\n",
      " #   Column            Non-Null Count  Dtype \n",
      "---  ------            --------------  ----- \n",
      " 0   price             545 non-null    int64 \n",
      " 1   area              545 non-null    int64 \n",
      " 2   bedrooms          545 non-null    int64 \n",
      " 3   bathrooms         545 non-null    int64 \n",
      " 4   stories           545 non-null    int64 \n",
      " 5   mainroad          545 non-null    object\n",
      " 6   guestroom         545 non-null    object\n",
      " 7   basement          545 non-null    object\n",
      " 8   hotwaterheating   545 non-null    object\n",
      " 9   airconditioning   545 non-null    object\n",
      " 10  parking           545 non-null    int64 \n",
      " 11  prefarea          545 non-null    object\n",
      " 12  furnishingstatus  545 non-null    object\n",
      "dtypes: int64(6), object(7)\n",
      "memory usage: 55.5+ KB\n"
     ]
    }
   ],
   "source": [
    "import numpy as np\n",
    "import pandas as pd\n",
    "\n",
    "data = pd.read_csv('dataset/dataset.csv')\n",
    "\n",
    "data.info()\n"
   ]
  },
  {
   "cell_type": "code",
   "execution_count": 3,
   "metadata": {},
   "outputs": [
    {
     "data": {
      "text/html": [
       "<div>\n",
       "<style scoped>\n",
       "    .dataframe tbody tr th:only-of-type {\n",
       "        vertical-align: middle;\n",
       "    }\n",
       "\n",
       "    .dataframe tbody tr th {\n",
       "        vertical-align: top;\n",
       "    }\n",
       "\n",
       "    .dataframe thead th {\n",
       "        text-align: right;\n",
       "    }\n",
       "</style>\n",
       "<table border=\"1\" class=\"dataframe\">\n",
       "  <thead>\n",
       "    <tr style=\"text-align: right;\">\n",
       "      <th></th>\n",
       "      <th>price</th>\n",
       "      <th>area</th>\n",
       "      <th>bedrooms</th>\n",
       "      <th>bathrooms</th>\n",
       "      <th>stories</th>\n",
       "      <th>mainroad</th>\n",
       "      <th>guestroom</th>\n",
       "      <th>basement</th>\n",
       "      <th>hotwaterheating</th>\n",
       "      <th>airconditioning</th>\n",
       "      <th>parking</th>\n",
       "      <th>prefarea</th>\n",
       "      <th>furnishingstatus</th>\n",
       "    </tr>\n",
       "  </thead>\n",
       "  <tbody>\n",
       "    <tr>\n",
       "      <th>0</th>\n",
       "      <td>13300000</td>\n",
       "      <td>7420</td>\n",
       "      <td>4</td>\n",
       "      <td>2</td>\n",
       "      <td>3</td>\n",
       "      <td>yes</td>\n",
       "      <td>no</td>\n",
       "      <td>no</td>\n",
       "      <td>no</td>\n",
       "      <td>yes</td>\n",
       "      <td>2</td>\n",
       "      <td>yes</td>\n",
       "      <td>furnished</td>\n",
       "    </tr>\n",
       "    <tr>\n",
       "      <th>1</th>\n",
       "      <td>12250000</td>\n",
       "      <td>8960</td>\n",
       "      <td>4</td>\n",
       "      <td>4</td>\n",
       "      <td>4</td>\n",
       "      <td>yes</td>\n",
       "      <td>no</td>\n",
       "      <td>no</td>\n",
       "      <td>no</td>\n",
       "      <td>yes</td>\n",
       "      <td>3</td>\n",
       "      <td>no</td>\n",
       "      <td>furnished</td>\n",
       "    </tr>\n",
       "    <tr>\n",
       "      <th>2</th>\n",
       "      <td>12250000</td>\n",
       "      <td>9960</td>\n",
       "      <td>3</td>\n",
       "      <td>2</td>\n",
       "      <td>2</td>\n",
       "      <td>yes</td>\n",
       "      <td>no</td>\n",
       "      <td>yes</td>\n",
       "      <td>no</td>\n",
       "      <td>no</td>\n",
       "      <td>2</td>\n",
       "      <td>yes</td>\n",
       "      <td>semi-furnished</td>\n",
       "    </tr>\n",
       "    <tr>\n",
       "      <th>3</th>\n",
       "      <td>12215000</td>\n",
       "      <td>7500</td>\n",
       "      <td>4</td>\n",
       "      <td>2</td>\n",
       "      <td>2</td>\n",
       "      <td>yes</td>\n",
       "      <td>no</td>\n",
       "      <td>yes</td>\n",
       "      <td>no</td>\n",
       "      <td>yes</td>\n",
       "      <td>3</td>\n",
       "      <td>yes</td>\n",
       "      <td>furnished</td>\n",
       "    </tr>\n",
       "    <tr>\n",
       "      <th>4</th>\n",
       "      <td>11410000</td>\n",
       "      <td>7420</td>\n",
       "      <td>4</td>\n",
       "      <td>1</td>\n",
       "      <td>2</td>\n",
       "      <td>yes</td>\n",
       "      <td>yes</td>\n",
       "      <td>yes</td>\n",
       "      <td>no</td>\n",
       "      <td>yes</td>\n",
       "      <td>2</td>\n",
       "      <td>no</td>\n",
       "      <td>furnished</td>\n",
       "    </tr>\n",
       "  </tbody>\n",
       "</table>\n",
       "</div>"
      ],
      "text/plain": [
       "      price  area  bedrooms  bathrooms  stories mainroad guestroom basement  \\\n",
       "0  13300000  7420         4          2        3      yes        no       no   \n",
       "1  12250000  8960         4          4        4      yes        no       no   \n",
       "2  12250000  9960         3          2        2      yes        no      yes   \n",
       "3  12215000  7500         4          2        2      yes        no      yes   \n",
       "4  11410000  7420         4          1        2      yes       yes      yes   \n",
       "\n",
       "  hotwaterheating airconditioning  parking prefarea furnishingstatus  \n",
       "0              no             yes        2      yes        furnished  \n",
       "1              no             yes        3       no        furnished  \n",
       "2              no              no        2      yes   semi-furnished  \n",
       "3              no             yes        3      yes        furnished  \n",
       "4              no             yes        2       no        furnished  "
      ]
     },
     "execution_count": 3,
     "metadata": {},
     "output_type": "execute_result"
    }
   ],
   "source": [
    "data.head()"
   ]
  },
  {
   "cell_type": "code",
   "execution_count": null,
   "id": "02bb583c",
   "metadata": {},
   "outputs": [],
   "source": [
    "# 2. Сделать препроцессинг, фичеинжинириг и т.д. \\\\ разрешается использование любых пакетов"
   ]
  },
  {
   "cell_type": "markdown",
   "metadata": {},
   "source": [
    "Удалим записи, в которых присутствуют пустые значения"
   ]
  },
  {
   "cell_type": "code",
   "execution_count": 4,
   "metadata": {},
   "outputs": [
    {
     "data": {
      "text/html": [
       "<div>\n",
       "<style scoped>\n",
       "    .dataframe tbody tr th:only-of-type {\n",
       "        vertical-align: middle;\n",
       "    }\n",
       "\n",
       "    .dataframe tbody tr th {\n",
       "        vertical-align: top;\n",
       "    }\n",
       "\n",
       "    .dataframe thead th {\n",
       "        text-align: right;\n",
       "    }\n",
       "</style>\n",
       "<table border=\"1\" class=\"dataframe\">\n",
       "  <thead>\n",
       "    <tr style=\"text-align: right;\">\n",
       "      <th></th>\n",
       "      <th>price</th>\n",
       "      <th>area</th>\n",
       "      <th>bedrooms</th>\n",
       "      <th>bathrooms</th>\n",
       "      <th>stories</th>\n",
       "      <th>mainroad</th>\n",
       "      <th>guestroom</th>\n",
       "      <th>basement</th>\n",
       "      <th>hotwaterheating</th>\n",
       "      <th>airconditioning</th>\n",
       "      <th>parking</th>\n",
       "      <th>prefarea</th>\n",
       "      <th>furnishingstatus</th>\n",
       "    </tr>\n",
       "  </thead>\n",
       "  <tbody>\n",
       "    <tr>\n",
       "      <th>0</th>\n",
       "      <td>13300000</td>\n",
       "      <td>7420</td>\n",
       "      <td>4</td>\n",
       "      <td>2</td>\n",
       "      <td>3</td>\n",
       "      <td>yes</td>\n",
       "      <td>no</td>\n",
       "      <td>no</td>\n",
       "      <td>no</td>\n",
       "      <td>yes</td>\n",
       "      <td>2</td>\n",
       "      <td>yes</td>\n",
       "      <td>furnished</td>\n",
       "    </tr>\n",
       "    <tr>\n",
       "      <th>1</th>\n",
       "      <td>12250000</td>\n",
       "      <td>8960</td>\n",
       "      <td>4</td>\n",
       "      <td>4</td>\n",
       "      <td>4</td>\n",
       "      <td>yes</td>\n",
       "      <td>no</td>\n",
       "      <td>no</td>\n",
       "      <td>no</td>\n",
       "      <td>yes</td>\n",
       "      <td>3</td>\n",
       "      <td>no</td>\n",
       "      <td>furnished</td>\n",
       "    </tr>\n",
       "    <tr>\n",
       "      <th>2</th>\n",
       "      <td>12250000</td>\n",
       "      <td>9960</td>\n",
       "      <td>3</td>\n",
       "      <td>2</td>\n",
       "      <td>2</td>\n",
       "      <td>yes</td>\n",
       "      <td>no</td>\n",
       "      <td>yes</td>\n",
       "      <td>no</td>\n",
       "      <td>no</td>\n",
       "      <td>2</td>\n",
       "      <td>yes</td>\n",
       "      <td>semi-furnished</td>\n",
       "    </tr>\n",
       "    <tr>\n",
       "      <th>3</th>\n",
       "      <td>12215000</td>\n",
       "      <td>7500</td>\n",
       "      <td>4</td>\n",
       "      <td>2</td>\n",
       "      <td>2</td>\n",
       "      <td>yes</td>\n",
       "      <td>no</td>\n",
       "      <td>yes</td>\n",
       "      <td>no</td>\n",
       "      <td>yes</td>\n",
       "      <td>3</td>\n",
       "      <td>yes</td>\n",
       "      <td>furnished</td>\n",
       "    </tr>\n",
       "    <tr>\n",
       "      <th>4</th>\n",
       "      <td>11410000</td>\n",
       "      <td>7420</td>\n",
       "      <td>4</td>\n",
       "      <td>1</td>\n",
       "      <td>2</td>\n",
       "      <td>yes</td>\n",
       "      <td>yes</td>\n",
       "      <td>yes</td>\n",
       "      <td>no</td>\n",
       "      <td>yes</td>\n",
       "      <td>2</td>\n",
       "      <td>no</td>\n",
       "      <td>furnished</td>\n",
       "    </tr>\n",
       "  </tbody>\n",
       "</table>\n",
       "</div>"
      ],
      "text/plain": [
       "      price  area  bedrooms  bathrooms  stories mainroad guestroom basement  \\\n",
       "0  13300000  7420         4          2        3      yes        no       no   \n",
       "1  12250000  8960         4          4        4      yes        no       no   \n",
       "2  12250000  9960         3          2        2      yes        no      yes   \n",
       "3  12215000  7500         4          2        2      yes        no      yes   \n",
       "4  11410000  7420         4          1        2      yes       yes      yes   \n",
       "\n",
       "  hotwaterheating airconditioning  parking prefarea furnishingstatus  \n",
       "0              no             yes        2      yes        furnished  \n",
       "1              no             yes        3       no        furnished  \n",
       "2              no              no        2      yes   semi-furnished  \n",
       "3              no             yes        3      yes        furnished  \n",
       "4              no             yes        2       no        furnished  "
      ]
     },
     "execution_count": 4,
     "metadata": {},
     "output_type": "execute_result"
    }
   ],
   "source": [
    "data = data.dropna()\n",
    "data.head()"
   ]
  },
  {
   "cell_type": "markdown",
   "metadata": {},
   "source": [
    "Преобразуем категориальные признаки в числовые"
   ]
  },
  {
   "cell_type": "code",
   "execution_count": 6,
   "metadata": {},
   "outputs": [],
   "source": [
    "from sklearn.preprocessing import LabelEncoder\n",
    "\n",
    "categorical_cols = ['mainroad', 'guestroom', 'basement', 'hotwaterheating', 'airconditioning', 'prefarea']\n",
    "label_encoder = LabelEncoder()\n",
    "for col in categorical_cols:\n",
    "    data[col] = label_encoder.fit_transform(data[col])\n",
    "\n",
    "furnishing_status_ohe = pd.get_dummies(data['furnishingstatus'], prefix='furnishing')\n",
    "data = pd.concat([data, furnishing_status_ohe], axis=1)\n",
    "data.drop('furnishingstatus', axis=1, inplace=True)\n"
   ]
  },
  {
   "cell_type": "code",
   "execution_count": null,
   "id": "8748069b",
   "metadata": {},
   "outputs": [],
   "source": [
    "# 2*. Посчитать различные статистики, визуализировать данные и сделать первичные выводы \\\\ разрешается использование любых пакетов"
   ]
  },
  {
   "cell_type": "markdown",
   "metadata": {},
   "source": [
    "Посмотрим на распределение цены домов"
   ]
  },
  {
   "cell_type": "code",
   "execution_count": 7,
   "metadata": {},
   "outputs": [
    {
     "data": {
      "image/png": "[encoded data removed]",
      "text/plain": [
       "<Figure size 720x432 with 1 Axes>"
      ]
     },
     "metadata": {
      "needs_background": "light"
     },
     "output_type": "display_data"
    }
   ],
   "source": [
    "import seaborn as sns\n",
    "import matplotlib.pyplot as plt\n",
    "\n",
    "plt.figure(figsize=(10, 6))\n",
    "sns.histplot(data[\"price\"], kde=True)\n",
    "plt.xlabel(\"Price\")\n",
    "plt.ylabel(\"Count\")\n",
    "plt.title(\"Distribution of Price\")\n",
    "plt.show()\n"
   ]
  },
  {
   "cell_type": "code",
   "execution_count": null,
   "id": "48f4fe2c",
   "metadata": {},
   "outputs": [],
   "source": [
    "# 3. Реализовать метрику качества \\\\ аргументировать выбор метрики качества "
   ]
  },
  {
   "cell_type": "markdown",
   "metadata": {},
   "source": [
    "В качестве метрики качества будем использовать MSE."
   ]
  },
  {
   "cell_type": "code",
   "execution_count": null,
   "id": "54c713a2",
   "metadata": {},
   "outputs": [],
   "source": [
    "# 4. Реализовать и обучить логистическую регрессию или линейную регрессию \\\\ !!!не разрешается использовать sklearn!!!"
   ]
  },
  {
   "cell_type": "markdown",
   "metadata": {},
   "source": [
    "Разделим датасет на обучающую и тестовую выборки"
   ]
  },
  {
   "cell_type": "code",
   "execution_count": 8,
   "metadata": {},
   "outputs": [],
   "source": [
    "from sklearn.model_selection import train_test_split\n",
    "\n",
    "X = data.drop('price', axis=1)  \n",
    "y = data['price']\n",
    "X_train, X_test, y_train, y_test = train_test_split(X, y, test_size=0.1, random_state=2904)\n"
   ]
  },
  {
   "cell_type": "markdown",
   "metadata": {},
   "source": [
    "Создадим и обучим модель"
   ]
  },
  {
   "cell_type": "code",
   "execution_count": 18,
   "metadata": {},
   "outputs": [
    {
     "name": "stdout",
     "output_type": "stream",
     "text": [
      "Epoch 1/100\n",
      "16/16 [==============================] - 1s 4ms/step - loss: 25810767446016.0000 - accuracy: 0.0000e+00\n",
      "Epoch 2/100\n",
      "16/16 [==============================] - 0s 3ms/step - loss: 25790118887424.0000 - accuracy: 0.0000e+00\n",
      "Epoch 3/100\n",
      "16/16 [==============================] - 0s 3ms/step - loss: 25767928922112.0000 - accuracy: 0.0000e+00\n",
      "Epoch 4/100\n",
      "16/16 [==============================] - 0s 3ms/step - loss: 25737828499456.0000 - accuracy: 0.0000e+00\n",
      "Epoch 5/100\n",
      "16/16 [==============================] - 0s 3ms/step - loss: 25695361171456.0000 - accuracy: 0.0000e+00\n",
      "Epoch 6/100\n",
      "16/16 [==============================] - 0s 3ms/step - loss: 25637649645568.0000 - accuracy: 0.0000e+00\n",
      "Epoch 7/100\n",
      "16/16 [==============================] - 0s 3ms/step - loss: 25558813507584.0000 - accuracy: 0.0000e+00\n",
      "Epoch 8/100\n",
      "16/16 [==============================] - 0s 3ms/step - loss: 25455562326016.0000 - accuracy: 0.0000e+00\n",
      "Epoch 9/100\n",
      "16/16 [==============================] - 0s 3ms/step - loss: 25322290413568.0000 - accuracy: 0.0000e+00\n",
      "Epoch 10/100\n",
      "16/16 [==============================] - 0s 3ms/step - loss: 25151420760064.0000 - accuracy: 0.0000e+00\n",
      "Epoch 11/100\n",
      "16/16 [==============================] - 0s 3ms/step - loss: 24939172200448.0000 - accuracy: 0.0000e+00\n",
      "Epoch 12/100\n",
      "16/16 [==============================] - 0s 3ms/step - loss: 24686947729408.0000 - accuracy: 0.0000e+00\n",
      "Epoch 13/100\n",
      "16/16 [==============================] - 0s 3ms/step - loss: 24382430773248.0000 - accuracy: 0.0000e+00\n",
      "Epoch 14/100\n",
      "16/16 [==============================] - 0s 3ms/step - loss: 24032250429440.0000 - accuracy: 0.0000e+00\n",
      "Epoch 15/100\n",
      "16/16 [==============================] - 0s 3ms/step - loss: 23626996776960.0000 - accuracy: 0.0000e+00\n",
      "Epoch 16/100\n",
      "16/16 [==============================] - 0s 3ms/step - loss: 23167896649728.0000 - accuracy: 0.0000e+00\n",
      "Epoch 17/100\n",
      "16/16 [==============================] - 0s 3ms/step - loss: 22646175563776.0000 - accuracy: 0.0000e+00\n",
      "Epoch 18/100\n",
      "16/16 [==============================] - 0s 4ms/step - loss: 22068320010240.0000 - accuracy: 0.0000e+00\n",
      "Epoch 19/100\n",
      "16/16 [==============================] - 0s 3ms/step - loss: 21441351254016.0000 - accuracy: 0.0000e+00\n",
      "Epoch 20/100\n",
      "16/16 [==============================] - 0s 3ms/step - loss: 20751237251072.0000 - accuracy: 0.0000e+00\n",
      "Epoch 21/100\n",
      "16/16 [==============================] - 0s 3ms/step - loss: 20030599200768.0000 - accuracy: 0.0000e+00\n",
      "Epoch 22/100\n",
      "16/16 [==============================] - 0s 3ms/step - loss: 19250049712128.0000 - accuracy: 0.0000e+00\n",
      "Epoch 23/100\n",
      "16/16 [==============================] - 0s 3ms/step - loss: 18415691497472.0000 - accuracy: 0.0000e+00\n",
      "Epoch 24/100\n",
      "16/16 [==============================] - 0s 3ms/step - loss: 17541191696384.0000 - accuracy: 0.0000e+00\n",
      "Epoch 25/100\n",
      "16/16 [==============================] - 0s 3ms/step - loss: 16652461670400.0000 - accuracy: 0.0000e+00\n",
      "Epoch 26/100\n",
      "16/16 [==============================] - 0s 3ms/step - loss: 15721321988096.0000 - accuracy: 0.0000e+00\n",
      "Epoch 27/100\n",
      "16/16 [==============================] - 0s 3ms/step - loss: 14801324474368.0000 - accuracy: 0.0000e+00\n",
      "Epoch 28/100\n",
      "16/16 [==============================] - 0s 3ms/step - loss: 13853719003136.0000 - accuracy: 0.0000e+00\n",
      "Epoch 29/100\n",
      "16/16 [==============================] - 0s 3ms/step - loss: 12902834634752.0000 - accuracy: 0.0000e+00\n",
      "Epoch 30/100\n",
      "16/16 [==============================] - 0s 3ms/step - loss: 11977383477248.0000 - accuracy: 0.0000e+00\n",
      "Epoch 31/100\n",
      "16/16 [==============================] - 0s 3ms/step - loss: 11069645914112.0000 - accuracy: 0.0000e+00\n",
      "Epoch 32/100\n",
      "16/16 [==============================] - 0s 3ms/step - loss: 10187939250176.0000 - accuracy: 0.0000e+00\n",
      "Epoch 33/100\n",
      "16/16 [==============================] - 0s 3ms/step - loss: 9351609712640.0000 - accuracy: 0.0000e+00\n",
      "Epoch 34/100\n",
      "16/16 [==============================] - 0s 3ms/step - loss: 8554501111808.0000 - accuracy: 0.0000e+00\n",
      "Epoch 35/100\n",
      "16/16 [==============================] - 0s 3ms/step - loss: 7810583101440.0000 - accuracy: 0.0000e+00\n",
      "Epoch 36/100\n",
      "16/16 [==============================] - 0s 4ms/step - loss: 7120409853952.0000 - accuracy: 0.0000e+00\n",
      "Epoch 37/100\n",
      "16/16 [==============================] - 0s 3ms/step - loss: 6504570159104.0000 - accuracy: 0.0000e+00\n",
      "Epoch 38/100\n",
      "16/16 [==============================] - 0s 3ms/step - loss: 5934528069632.0000 - accuracy: 0.0000e+00\n",
      "Epoch 39/100\n",
      "16/16 [==============================] - 0s 3ms/step - loss: 5450160406528.0000 - accuracy: 0.0000e+00\n",
      "Epoch 40/100\n",
      "16/16 [==============================] - 0s 3ms/step - loss: 5020173991936.0000 - accuracy: 0.0000e+00\n",
      "Epoch 41/100\n",
      "16/16 [==============================] - 0s 3ms/step - loss: 4660975894528.0000 - accuracy: 0.0000e+00\n",
      "Epoch 42/100\n",
      "16/16 [==============================] - 0s 3ms/step - loss: 4359966425088.0000 - accuracy: 0.0000e+00\n",
      "Epoch 43/100\n",
      "16/16 [==============================] - 0s 3ms/step - loss: 4116583022592.0000 - accuracy: 0.0000e+00\n",
      "Epoch 44/100\n",
      "16/16 [==============================] - 0s 3ms/step - loss: 3902280040448.0000 - accuracy: 0.0000e+00\n",
      "Epoch 45/100\n",
      "16/16 [==============================] - 0s 3ms/step - loss: 3740477423616.0000 - accuracy: 0.0000e+00\n",
      "Epoch 46/100\n",
      "16/16 [==============================] - 0s 3ms/step - loss: 3604321402880.0000 - accuracy: 0.0000e+00\n",
      "Epoch 47/100\n",
      "16/16 [==============================] - 0s 3ms/step - loss: 3509774974976.0000 - accuracy: 0.0000e+00\n",
      "Epoch 48/100\n",
      "16/16 [==============================] - 0s 3ms/step - loss: 3432393211904.0000 - accuracy: 0.0000e+00\n",
      "Epoch 49/100\n",
      "16/16 [==============================] - 0s 3ms/step - loss: 3380990181376.0000 - accuracy: 0.0000e+00\n",
      "Epoch 50/100\n",
      "16/16 [==============================] - 0s 3ms/step - loss: 3342527365120.0000 - accuracy: 0.0000e+00\n",
      "Epoch 51/100\n",
      "16/16 [==============================] - 0s 3ms/step - loss: 3314078711808.0000 - accuracy: 0.0000e+00\n",
      "Epoch 52/100\n",
      "16/16 [==============================] - 0s 3ms/step - loss: 3295901122560.0000 - accuracy: 0.0000e+00\n",
      "Epoch 53/100\n",
      "16/16 [==============================] - 0s 3ms/step - loss: 3284520140800.0000 - accuracy: 0.0000e+00\n",
      "Epoch 54/100\n",
      "16/16 [==============================] - 0s 3ms/step - loss: 3275956158464.0000 - accuracy: 0.0000e+00\n",
      "Epoch 55/100\n",
      "16/16 [==============================] - 0s 3ms/step - loss: 3270971228160.0000 - accuracy: 0.0000e+00\n",
      "Epoch 56/100\n",
      "16/16 [==============================] - 0s 3ms/step - loss: 3265132756992.0000 - accuracy: 0.0000e+00\n",
      "Epoch 57/100\n",
      "16/16 [==============================] - 0s 3ms/step - loss: 3263080693760.0000 - accuracy: 0.0000e+00\n",
      "Epoch 58/100\n",
      "16/16 [==============================] - 0s 3ms/step - loss: 3258817708032.0000 - accuracy: 0.0000e+00\n",
      "Epoch 59/100\n",
      "16/16 [==============================] - 0s 3ms/step - loss: 3257907019776.0000 - accuracy: 0.0000e+00\n",
      "Epoch 60/100\n",
      "16/16 [==============================] - 0s 3ms/step - loss: 3257138675712.0000 - accuracy: 0.0000e+00\n",
      "Epoch 61/100\n",
      "16/16 [==============================] - 0s 3ms/step - loss: 3256829870080.0000 - accuracy: 0.0000e+00\n",
      "Epoch 62/100\n",
      "16/16 [==============================] - 0s 3ms/step - loss: 3256674680832.0000 - accuracy: 0.0000e+00\n",
      "Epoch 63/100\n",
      "16/16 [==============================] - 0s 4ms/step - loss: 3256507170816.0000 - accuracy: 0.0000e+00\n",
      "Epoch 64/100\n",
      "16/16 [==============================] - 0s 3ms/step - loss: 3255771594752.0000 - accuracy: 0.0000e+00\n",
      "Epoch 65/100\n",
      "16/16 [==============================] - 0s 3ms/step - loss: 3255523606528.0000 - accuracy: 0.0000e+00\n",
      "Epoch 66/100\n",
      "16/16 [==============================] - 0s 3ms/step - loss: 3255432904704.0000 - accuracy: 0.0000e+00\n",
      "Epoch 67/100\n",
      "16/16 [==============================] - 0s 3ms/step - loss: 3256026136576.0000 - accuracy: 0.0000e+00\n",
      "Epoch 68/100\n",
      "16/16 [==============================] - 0s 3ms/step - loss: 3255687708672.0000 - accuracy: 0.0000e+00\n",
      "Epoch 69/100\n",
      "16/16 [==============================] - 0s 3ms/step - loss: 3255247306752.0000 - accuracy: 0.0000e+00\n",
      "Epoch 70/100\n",
      "16/16 [==============================] - 0s 3ms/step - loss: 3255585472512.0000 - accuracy: 0.0000e+00\n",
      "Epoch 71/100\n",
      "16/16 [==============================] - 0s 3ms/step - loss: 3255169712128.0000 - accuracy: 0.0000e+00\n",
      "Epoch 72/100\n",
      "16/16 [==============================] - 0s 3ms/step - loss: 3254854615040.0000 - accuracy: 0.0000e+00\n",
      "Epoch 73/100\n",
      "16/16 [==============================] - 0s 3ms/step - loss: 3254875586560.0000 - accuracy: 0.0000e+00\n",
      "Epoch 74/100\n",
      "16/16 [==============================] - 0s 3ms/step - loss: 3254762340352.0000 - accuracy: 0.0000e+00\n",
      "Epoch 75/100\n",
      "16/16 [==============================] - 0s 3ms/step - loss: 3255820877824.0000 - accuracy: 0.0000e+00\n",
      "Epoch 76/100\n",
      "16/16 [==============================] - 0s 3ms/step - loss: 3254585393152.0000 - accuracy: 0.0000e+00\n",
      "Epoch 77/100\n",
      "16/16 [==============================] - 0s 3ms/step - loss: 3254810050560.0000 - accuracy: 0.0000e+00\n",
      "Epoch 78/100\n",
      "16/16 [==============================] - 0s 3ms/step - loss: 3256760926208.0000 - accuracy: 0.0000e+00\n",
      "Epoch 79/100\n",
      "16/16 [==============================] - 0s 3ms/step - loss: 3256486723584.0000 - accuracy: 0.0000e+00\n",
      "Epoch 80/100\n",
      "16/16 [==============================] - 0s 3ms/step - loss: 3254731145216.0000 - accuracy: 0.0000e+00\n",
      "Epoch 81/100\n",
      "16/16 [==============================] - 0s 3ms/step - loss: 3254264528896.0000 - accuracy: 0.0000e+00\n",
      "Epoch 82/100\n",
      "16/16 [==============================] - 0s 3ms/step - loss: 3256172412928.0000 - accuracy: 0.0000e+00\n",
      "Epoch 83/100\n",
      "16/16 [==============================] - 0s 3ms/step - loss: 3253644034048.0000 - accuracy: 0.0000e+00\n",
      "Epoch 84/100\n",
      "16/16 [==============================] - 0s 3ms/step - loss: 3254739271680.0000 - accuracy: 0.0000e+00\n",
      "Epoch 85/100\n",
      "16/16 [==============================] - 0s 3ms/step - loss: 3255985242112.0000 - accuracy: 0.0000e+00\n",
      "Epoch 86/100\n",
      "16/16 [==============================] - 0s 3ms/step - loss: 3255025795072.0000 - accuracy: 0.0000e+00\n",
      "Epoch 87/100\n",
      "16/16 [==============================] - 0s 3ms/step - loss: 3258882195456.0000 - accuracy: 0.0000e+00\n",
      "Epoch 88/100\n",
      "16/16 [==============================] - 0s 3ms/step - loss: 3254840197120.0000 - accuracy: 0.0000e+00\n",
      "Epoch 89/100\n",
      "16/16 [==============================] - 0s 3ms/step - loss: 3254036987904.0000 - accuracy: 0.0000e+00\n",
      "Epoch 90/100\n",
      "16/16 [==============================] - 0s 3ms/step - loss: 3254527983616.0000 - accuracy: 0.0000e+00\n",
      "Epoch 91/100\n",
      "16/16 [==============================] - 0s 3ms/step - loss: 3253833564160.0000 - accuracy: 0.0000e+00\n",
      "Epoch 92/100\n",
      "16/16 [==============================] - 0s 3ms/step - loss: 3254812934144.0000 - accuracy: 0.0000e+00\n",
      "Epoch 93/100\n",
      "16/16 [==============================] - 0s 3ms/step - loss: 3254373580800.0000 - accuracy: 0.0000e+00\n",
      "Epoch 94/100\n",
      "16/16 [==============================] - 0s 3ms/step - loss: 3255050174464.0000 - accuracy: 0.0000e+00\n",
      "Epoch 95/100\n",
      "16/16 [==============================] - 0s 3ms/step - loss: 3253729230848.0000 - accuracy: 0.0000e+00\n",
      "Epoch 96/100\n",
      "16/16 [==============================] - 0s 3ms/step - loss: 3254428631040.0000 - accuracy: 0.0000e+00\n",
      "Epoch 97/100\n",
      "16/16 [==============================] - 0s 3ms/step - loss: 3253246099456.0000 - accuracy: 0.0000e+00\n",
      "Epoch 98/100\n",
      "16/16 [==============================] - 0s 3ms/step - loss: 3253613101056.0000 - accuracy: 0.0000e+00\n",
      "Epoch 99/100\n",
      "16/16 [==============================] - 0s 3ms/step - loss: 3257317195776.0000 - accuracy: 0.0000e+00\n",
      "Epoch 100/100\n",
      "16/16 [==============================] - 0s 3ms/step - loss: 3255233675264.0000 - accuracy: 0.0000e+00\n"
     ]
    }
   ],
   "source": [
    "import tensorflow as tf\n",
    "\n",
    "keras_model = tf.keras.Sequential([\n",
    "    tf.keras.layers.Dense(64, activation='relu', input_shape=(X_train.shape[1],)),\n",
    "    tf.keras.layers.Dense(64, activation='relu'),\n",
    "    tf.keras.layers.Dense(1)\n",
    "])\n",
    "\n",
    "keras_model.compile(optimizer='adam',\n",
    "              loss='mse',\n",
    "              metrics=['accuracy'])\n",
    "\n",
    "keras_history = keras_model.fit(X_train, y_train, epochs=100)\n"
   ]
  },
  {
   "cell_type": "code",
   "execution_count": null,
   "id": "dc3b0fcc",
   "metadata": {},
   "outputs": [],
   "source": [
    "# 4*. Добавить регуляризацию \\\\ не разрешается использовать sklearn"
   ]
  },
  {
   "cell_type": "code",
   "execution_count": null,
   "id": "7f99eb75",
   "metadata": {},
   "outputs": [],
   "source": [
    "# 5. Оценить качество модели на обучающей и тестовой выборках \\\\ не разрешается использовать sklearn"
   ]
  },
  {
   "cell_type": "code",
   "execution_count": 20,
   "metadata": {},
   "outputs": [
    {
     "name": "stdout",
     "output_type": "stream",
     "text": [
      "16/16 [==============================] - 0s 2ms/step\n",
      "Результаты модели:\n",
      "MSE на тренировочных данных: 3252734052573.746\n"
     ]
    }
   ],
   "source": [
    "from sklearn.metrics import mean_squared_error\n",
    "\n",
    "y_train_pred = keras_model.predict(X_train)\n",
    "\n",
    "print('Результаты модели:')\n",
    "print('MSE на тренировочных данных:', mean_squared_error(y_train, y_train_pred))\n"
   ]
  },
  {
   "cell_type": "code",
   "execution_count": null,
   "id": "6970403b",
   "metadata": {},
   "outputs": [],
   "source": [
    "# 5*. Сделать график ошибки модели на обучающей и тестовой выборках \n",
    "# 5*. Сделать график точности модели на обучающей и тестовой выборках"
   ]
  },
  {
   "cell_type": "markdown",
   "metadata": {},
   "source": [
    "Визуализируем процесс обучения"
   ]
  },
  {
   "cell_type": "code",
   "execution_count": 21,
   "metadata": {},
   "outputs": [
    {
     "data": {
      "image/png": "[encoded data removed]",
      "text/plain": [
       "<Figure size 432x288 with 1 Axes>"
      ]
     },
     "metadata": {
      "needs_background": "light"
     },
     "output_type": "display_data"
    }
   ],
   "source": [
    "plt.plot(keras_history.history['loss'])\n",
    "plt.title('Model Loss')\n",
    "plt.xlabel('Epoch')\n",
    "plt.ylabel('Mean Squared Error')\n",
    "plt.show()"
   ]
  },
  {
   "cell_type": "code",
   "execution_count": null,
   "id": "b9388f61",
   "metadata": {},
   "outputs": [],
   "source": [
    "# 6. Обучить логистическую регрессию или линейную регрессию из sklearn, оценить качество модели на обучающей и тестовой выборках и сравнить со своей моделью"
   ]
  },
  {
   "cell_type": "markdown",
   "metadata": {},
   "source": [
    "Обучим модель"
   ]
  },
  {
   "cell_type": "code",
   "execution_count": 28,
   "metadata": {},
   "outputs": [],
   "source": [
    "from sklearn.linear_model import LinearRegression\n",
    "\n",
    "sklearn_model = LinearRegression()\n",
    "_ = sklearn_model.fit(X_train, y_train)\n"
   ]
  },
  {
   "cell_type": "code",
   "execution_count": 29,
   "metadata": {},
   "outputs": [
    {
     "name": "stdout",
     "output_type": "stream",
     "text": [
      "Результаты модели\n",
      "MSE на тренировочных данных: 1059733732173.634\n"
     ]
    }
   ],
   "source": [
    "y_train_pred = sklearn_model.predict(X_train)\n",
    "\n",
    "print('Результаты модели')\n",
    "print('MSE на тренировочных данных:', mean_squared_error(y_train, y_train_pred))\n"
   ]
  },
  {
   "cell_type": "markdown",
   "metadata": {},
   "source": [
    "### Вывод\n",
    "\n",
    "Модель, обученная средствами sklearn оказалась примерно в 3 раза точнее.\n"
   ]
  },
  {
   "cell_type": "code",
   "execution_count": null,
   "id": "4797294c",
   "metadata": {},
   "outputs": [],
   "source": [
    "# 6*. Сделать график ошибки модели из sklearn на обучающей и тестовой выборках и сравнить со своей моделью\n",
    "# 6*. Сделать график точности модели из sklearn на обучающей и тестовой выборках и сравнить со своей моделью"
   ]
  }
 ],
 "metadata": {
  "kernelspec": {
   "display_name": "Python 3",
   "language": "python",
   "name": "python3"
  },
  "language_info": {
   "codemirror_mode": {
    "name": "ipython",
    "version": 3
   },
   "file_extension": ".py",
   "mimetype": "text/x-python",
   "name": "python",
   "nbconvert_exporter": "python",
   "pygments_lexer": "ipython3",
   "version": "3.9.5"
  }
 },
 "nbformat": 4,
 "nbformat_minor": 5
}
