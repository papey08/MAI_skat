{
 "cells": [
  {
   "cell_type": "markdown",
   "metadata": {},
   "source": [
    "# Лабораторная работа №2, Фундаментальные концепции ИИ\n",
    "## Глобальная оптимизация и метаэврестические алгоритмы\n",
    "### Попов Матвей, М8О-114СВ-24\n"
   ]
  },
  {
   "cell_type": "markdown",
   "metadata": {},
   "source": [
    "Импортируем необходимые библиотеки"
   ]
  },
  {
   "cell_type": "code",
   "execution_count": 36,
   "metadata": {},
   "outputs": [],
   "source": [
    "import pygmo as pg\n",
    "import pandas as pd"
   ]
  },
  {
   "cell_type": "markdown",
   "metadata": {},
   "source": [
    "Функция для тестирования алгоритма"
   ]
  },
  {
   "cell_type": "code",
   "execution_count": 37,
   "metadata": {},
   "outputs": [],
   "source": [
    "def run_algorithm(problem, algorithm, population_size=50):\n",
    "    pop = pg.population(problem, size=population_size)\n",
    "    pop = algorithm.evolve(pop)\n",
    "    best_solution = pop.champion_x\n",
    "    best_fitness = pop.champion_f[0]\n",
    "    return best_solution[0], best_solution[1], best_fitness"
   ]
  },
  {
   "cell_type": "markdown",
   "metadata": {},
   "source": [
    "### Выбранные алгоритмы:\n",
    "\n",
    "* Дифференциальная эволюция\n",
    "* Оптимизация роя частиц\n",
    "* CMA-ES"
   ]
  },
  {
   "cell_type": "code",
   "execution_count": 38,
   "metadata": {},
   "outputs": [],
   "source": [
    "de_algorithm = pg.algorithm(pg.de(gen=1000))\n",
    "pso_algorithm = pg.algorithm(pg.pso(gen=1000))\n",
    "cmaes_algorithm = pg.algorithm(pg.cmaes(gen=1000))\n"
   ]
  },
  {
   "cell_type": "markdown",
   "metadata": {},
   "source": [
    "## Функция Била"
   ]
  },
  {
   "cell_type": "code",
   "execution_count": 39,
   "metadata": {},
   "outputs": [],
   "source": [
    "class BealeFunction:\n",
    "    def __init__(self):\n",
    "        self.dim = 2\n",
    "        self.bounds = [(-4.5, 4.5), (-4.5, 4.5)]\n",
    "\n",
    "    def get_nx(self):\n",
    "        return self.dim\n",
    "\n",
    "    def get_bounds(self):\n",
    "        lower_bounds, upper_bounds = zip(*self.bounds)\n",
    "        return (list(lower_bounds), list(upper_bounds))\n",
    "\n",
    "    def fitness(self, x):\n",
    "        x1, x2 = x[0], x[1]\n",
    "        term1 = (1.5 - x1 + x1 * x2) ** 2\n",
    "        term2 = (2.25 - x1 + x1 * x2 ** 2) ** 2\n",
    "        term3 = (2.625 - x1 + x1 * x2 ** 3) ** 2\n",
    "        return [term1 + term2 + term3]\n"
   ]
  },
  {
   "cell_type": "markdown",
   "metadata": {},
   "source": [
    "Проводим тестирование"
   ]
  },
  {
   "cell_type": "code",
   "execution_count": 40,
   "metadata": {},
   "outputs": [],
   "source": [
    "beale_problem = pg.problem(BealeFunction())\n",
    "beale_results = []\n",
    "\n",
    "beale_de_result = run_algorithm(beale_problem, de_algorithm)\n",
    "beale_results.append((\"Differential evolution\", *beale_de_result))\n",
    "\n",
    "beale_pso_result = run_algorithm(beale_problem, pso_algorithm)\n",
    "beale_results.append((\"PSO\", *beale_pso_result))\n",
    "\n",
    "beale_cmaes_result = run_algorithm(beale_problem, cmaes_algorithm)\n",
    "beale_results.append((\"CMA-ES\", *beale_cmaes_result))\n"
   ]
  },
  {
   "cell_type": "markdown",
   "metadata": {},
   "source": [
    "### Результат"
   ]
  },
  {
   "cell_type": "code",
   "execution_count": 41,
   "metadata": {},
   "outputs": [
    {
     "name": "stdout",
     "output_type": "stream",
     "text": [
      "                algorithm         x         y       f(x, y)\n",
      "0  Differential evolution  2.999852  0.499968  3.930137e-09\n",
      "1                     PSO  3.000000  0.500000  0.000000e+00\n",
      "2                  CMA-ES  3.000067  0.500008  2.459235e-09\n"
     ]
    }
   ],
   "source": [
    "beale_table = pd.DataFrame(beale_results, columns=[\n",
    "    'algorithm', \n",
    "    'x', \n",
    "    'y', \n",
    "    'f(x, y)',\n",
    "])\n",
    "\n",
    "print(beale_table)\n"
   ]
  },
  {
   "cell_type": "markdown",
   "metadata": {},
   "source": [
    "## Функция Бута"
   ]
  },
  {
   "cell_type": "code",
   "execution_count": 42,
   "metadata": {},
   "outputs": [],
   "source": [
    "class BoothFunction:\n",
    "    def __init__(self):\n",
    "        self.dim = 2\n",
    "        self.bounds = [(-10, 10), (-10, 10)]\n",
    "\n",
    "    def get_nx(self):\n",
    "        return self.dim\n",
    "\n",
    "    def get_bounds(self):\n",
    "        lower_bounds, upper_bounds = zip(*self.bounds)\n",
    "        return (list(lower_bounds), list(upper_bounds))\n",
    "\n",
    "    def fitness(self, x):\n",
    "        x1, x2 = x[0], x[1]\n",
    "        term1 = (x1 + 2 * x2 - 7) ** 2\n",
    "        term2 = (2 * x1 + x2 - 5) ** 2\n",
    "        return [term1 + term2]\n"
   ]
  },
  {
   "cell_type": "markdown",
   "metadata": {},
   "source": [
    "Проводим тестирование"
   ]
  },
  {
   "cell_type": "code",
   "execution_count": 43,
   "metadata": {},
   "outputs": [],
   "source": [
    "booth_problem = pg.problem(BoothFunction())\n",
    "booth_results = []\n",
    "\n",
    "booth_de_result = run_algorithm(booth_problem, de_algorithm)\n",
    "booth_results.append((\"Differential evolution\", *booth_de_result))\n",
    "\n",
    "booth_pso_result = run_algorithm(booth_problem, pso_algorithm)\n",
    "booth_results.append((\"PSO\", *booth_pso_result))\n",
    "\n",
    "booth_cmaes_result = run_algorithm(booth_problem, cmaes_algorithm)\n",
    "booth_results.append((\"CMA-ES\", *booth_cmaes_result))\n"
   ]
  },
  {
   "cell_type": "markdown",
   "metadata": {},
   "source": [
    "### Результат"
   ]
  },
  {
   "cell_type": "code",
   "execution_count": 44,
   "metadata": {},
   "outputs": [
    {
     "name": "stdout",
     "output_type": "stream",
     "text": [
      "                algorithm        x         y       f(x, y)\n",
      "0  Differential evolution  0.99996  3.000029  2.926616e-09\n",
      "1                     PSO  1.00000  3.000000  0.000000e+00\n",
      "2                  CMA-ES  1.00000  3.000014  9.639532e-10\n"
     ]
    }
   ],
   "source": [
    "booth_table = pd.DataFrame(booth_results, columns=[\n",
    "    'algorithm', \n",
    "    'x', \n",
    "    'y', \n",
    "    'f(x, y)',\n",
    "])\n",
    "\n",
    "print(booth_table)\n"
   ]
  },
  {
   "cell_type": "markdown",
   "metadata": {},
   "source": [
    "## Вывод\n",
    "\n",
    "Проделав лабораторную работу, протестировал 3 алгоритма оптимизации из \n",
    "библиотеки pygmo. И на функции Била, и на функции Бута лучше всего себя \n",
    "показал алгоритм оптимизации роя частиц.\n"
   ]
  }
 ],
 "metadata": {
  "kernelspec": {
   "display_name": "Python 3",
   "language": "python",
   "name": "python3"
  },
  "language_info": {
   "codemirror_mode": {
    "name": "ipython",
    "version": 3
   },
   "file_extension": ".py",
   "mimetype": "text/x-python",
   "name": "python",
   "nbconvert_exporter": "python",
   "pygments_lexer": "ipython3",
   "version": "3.13.0"
  }
 },
 "nbformat": 4,
 "nbformat_minor": 2
}
