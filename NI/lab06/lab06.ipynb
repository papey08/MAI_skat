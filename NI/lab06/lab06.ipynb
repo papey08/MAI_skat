{
 "cells": [
  {
   "cell_type": "markdown",
   "metadata": {},
   "source": [
    "# Лабораторная работа №6\n",
    "\n",
    "## Сети Кохонена\n",
    "\n",
    "Выполнил Попов Матвей\n",
    "\n",
    "Группа М8О-408Б-20\n",
    "\n",
    "Вариант 21"
   ]
  },
  {
   "cell_type": "markdown",
   "metadata": {},
   "source": [
    "### Цель работы\n",
    "\n",
    "Исследование свойств слоя Кохонена, карты Кохонена, а также сетей\n",
    "векторного квантования, обучаемых с учителем, алгоритмов обучения, а также \n",
    "применение сетей в задачах кластеризации и классификации.\n"
   ]
  },
  {
   "cell_type": "markdown",
   "metadata": {},
   "source": [
    "### Сценарий работы\n"
   ]
  },
  {
   "cell_type": "markdown",
   "metadata": {},
   "source": [
    "Импортируем необходимые библиотеки"
   ]
  },
  {
   "cell_type": "code",
   "execution_count": 51,
   "metadata": {},
   "outputs": [],
   "source": [
    "import matplotlib.pyplot as plt\n",
    "import numpy as np\n",
    "import copy\n",
    "import tqdm"
   ]
  },
  {
   "cell_type": "markdown",
   "metadata": {},
   "source": [
    "Зададим входные данные"
   ]
  },
  {
   "cell_type": "code",
   "execution_count": 52,
   "metadata": {},
   "outputs": [],
   "source": [
    "data = [\n",
    "    [-1.2, -0.8], \n",
    "    [0.5, 1], \n",
    "    [1.4, -0.9], \n",
    "    [0.7, 0.2], \n",
    "    [-0.3, 0],\n",
    "    [-0.1, 0.4],\n",
    "    [0.7, -0.6],\n",
    "    [-1.3, 0.9],\n",
    "    [-0.4, 0.8],\n",
    "    [-1, 1.2],\n",
    "    [1.2, 1.1],\n",
    "    [1.4, 1],\n",
    "]\n"
   ]
  },
  {
   "cell_type": "markdown",
   "metadata": {},
   "source": [
    "Реализуем класс сети Кохонена для кластеризации точек"
   ]
  },
  {
   "cell_type": "code",
   "execution_count": 53,
   "metadata": {},
   "outputs": [],
   "source": [
    "class Kohonen:\n",
    "    def __init__(self, features, width, height):\n",
    "        self._features = features\n",
    "        self._width = width\n",
    "        self._height = height\n",
    "        self._weights = np.random.randn(width * height, features)\n",
    "        self._distances = np.zeros((width * height, width * height))\n",
    "\n",
    "        kohonen_map = np.array([[x, y] for y in range(height) for x in range(width)])\n",
    "        for i, p in enumerate(kohonen_map):\n",
    "            self._distances[i] = np.linalg.norm(kohonen_map - p, axis=1)        \n",
    "\n",
    "    def train(self, data, epoch=50):\n",
    "        start_ef_width = max(self._width, self._height) / 2\n",
    "        ef_width_rate = epoch / np.log(start_ef_width)\n",
    "        shuffle_data = copy.copy(data)\n",
    "\n",
    "        for i in tqdm.tqdm(range(epoch)):\n",
    "            np.random.shuffle(shuffle_data)\n",
    "            ef_width = start_ef_width * np.exp(-i / ef_width_rate)\n",
    "            lr = np.exp(-i / epoch)\n",
    "\n",
    "            for x in shuffle_data:\n",
    "                x_distances = np.linalg.norm(self._weights - x, axis=1)\n",
    "                win_point = np.argmin(x_distances)\n",
    "\n",
    "                for i, d in enumerate(self._distances[win_point]):\n",
    "                    tn = np.exp(-d**2 / (2 * ef_width**2))\n",
    "                    self._weights[i] += (x - self._weights[i]) * lr * tn\n",
    "\n",
    "    @property\n",
    "    def reshape_weights(self):\n",
    "        return np.array(self._weights.reshape((self._height,self._width, self._features)))\n",
    "\n",
    "    @property\n",
    "    def scale_weights(self):\n",
    "        return ((self._weights - np.min(self._weights, axis=0)) / (np.max(self._weights, axis=0) - np.min(self._weights, axis=0))).reshape((self._height, self._width, self._features))\n"
   ]
  },
  {
   "cell_type": "markdown",
   "metadata": {},
   "source": [
    "Создадим и обучим модель"
   ]
  },
  {
   "cell_type": "code",
   "execution_count": 54,
   "metadata": {},
   "outputs": [
    {
     "name": "stderr",
     "output_type": "stream",
     "text": [
      "100%|██████████| 50/50 [00:12<00:00,  3.94it/s]\n"
     ]
    }
   ],
   "source": [
    "model = Kohonen(2, 50, 50)\n",
    "\n",
    "model.train(data)"
   ]
  },
  {
   "cell_type": "markdown",
   "metadata": {},
   "source": [
    "Проверим модель в действии"
   ]
  },
  {
   "cell_type": "code",
   "execution_count": 55,
   "metadata": {},
   "outputs": [
    {
     "data": {
      "text/plain": [
       "<matplotlib.image.AxesImage at 0x2756ac4d490>"
      ]
     },
     "execution_count": 55,
     "metadata": {},
     "output_type": "execute_result"
    },
    {
     "data": {
      "image/png": "[encoded data removed]",
      "text/plain": [
       "<Figure size 432x288 with 1 Axes>"
      ]
     },
     "metadata": {
      "needs_background": "light"
     },
     "output_type": "display_data"
    }
   ],
   "source": [
    "plt.imshow(np.insert(model.scale_weights, 2, 0.5, axis = 2))"
   ]
  },
  {
   "cell_type": "markdown",
   "metadata": {},
   "source": [
    "## Вывод\n",
    "\n",
    "Проделав лабораторную работу, я решил задачу кластеризации с помощью карты \n",
    "Кохонена.\n"
   ]
  }
 ],
 "metadata": {
  "kernelspec": {
   "display_name": "Python 3 (ipykernel)",
   "language": "python",
   "name": "python3"
  },
  "language_info": {
   "codemirror_mode": {
    "name": "ipython",
    "version": 3
   },
   "file_extension": ".py",
   "mimetype": "text/x-python",
   "name": "python",
   "nbconvert_exporter": "python",
   "pygments_lexer": "ipython3",
   "version": "3.9.5"
  },
  "vscode": {
   "interpreter": {
    "hash": "35bc7da2885cd6966f22e9b33472bbe8600280cb373b4b038157a011d99f2e93"
   }
  }
 },
 "nbformat": 4,
 "nbformat_minor": 2
}
