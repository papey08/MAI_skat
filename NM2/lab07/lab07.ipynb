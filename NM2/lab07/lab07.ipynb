{
 "cells": [
  {
   "cell_type": "markdown",
   "metadata": {},
   "source": [
    "# Лабораторная работа №5\n",
    "\n",
    "## по курсу \"Численные методы\"\n",
    "\n",
    "## Попов Матвей, М8О-408Б-20\n",
    "\n",
    "## Вариант 1\n"
   ]
  },
  {
   "cell_type": "code",
   "execution_count": 10,
   "metadata": {},
   "outputs": [],
   "source": [
    "x_begin = 0\n",
    "x_end = 1.05\n",
    "\n",
    "y_begin = 0\n",
    "y_end = 1.05\n",
    "\n",
    "h_x = 0.05\n",
    "h_y = 0.05\n",
    "\n",
    "def phi_0(y):\n",
    "    return y\n",
    "\n",
    "def phi_1(y):\n",
    "    return 1 + y\n",
    "\n",
    "def psi_0(x):\n",
    "    return x\n",
    "\n",
    "def psi_1(x):\n",
    "    return 1 + x\n",
    "\n",
    "def solution(x, y):\n",
    "    return x + y\n"
   ]
  },
  {
   "cell_type": "markdown",
   "metadata": {},
   "source": [
    "Запустим программу для вычислений"
   ]
  },
  {
   "cell_type": "code",
   "execution_count": 11,
   "metadata": {},
   "outputs": [],
   "source": [
    "!go run cmd/main.go"
   ]
  },
  {
   "cell_type": "markdown",
   "metadata": {},
   "source": [
    "Считаем результаты вычислений"
   ]
  },
  {
   "cell_type": "code",
   "execution_count": 12,
   "metadata": {},
   "outputs": [],
   "source": [
    "import json\n",
    "import numpy as np\n",
    "\n",
    "def read_json_file(filepath):\n",
    "    with open(filepath, 'r') as file:\n",
    "        data = json.load(file)\n",
    "        return data\n",
    "    \n",
    "data = read_json_file('results.json')\n",
    "data['A'] = np.array(data['A'])\n",
    "data['b'] = np.array(data['b'])\n",
    "data['mapping'] = np.array(data['mapping'])\n",
    "data['res'] = np.array(data['res'])\n",
    "data['x'] = np.array(data['x'])\n",
    "data['y'] = np.array(data['y'])\n"
   ]
  },
  {
   "cell_type": "markdown",
   "metadata": {},
   "source": [
    "Определим функции для вычисления ошибки"
   ]
  },
  {
   "cell_type": "code",
   "execution_count": 13,
   "metadata": {},
   "outputs": [],
   "source": [
    "import math\n",
    "\n",
    "def max_abs_error(A, B):\n",
    "    return abs(A - B).max()\n",
    "\n",
    "def mean_abs_error(A, B):\n",
    "    return abs(A - B).mean()\n",
    "\n",
    "def L2_norm(X):\n",
    "    n = X.shape[0]\n",
    "    l2_norm = 0\n",
    "    for i in range(n):\n",
    "        l2_norm += X[i] * X[i]\n",
    "    return math.sqrt(l2_norm)\n"
   ]
  },
  {
   "cell_type": "markdown",
   "metadata": {},
   "source": [
    "Определим функцию для аналитического решения"
   ]
  },
  {
   "cell_type": "code",
   "execution_count": 14,
   "metadata": {},
   "outputs": [],
   "source": [
    "def analytical(\n",
    "    x_range,\n",
    "    y_range,\n",
    "    h_x,\n",
    "    h_y,\n",
    "):\n",
    "    x = np.arange(*x_range, h_x)\n",
    "    y = np.arange(*y_range, h_y)\n",
    "\n",
    "    res = np.zeros((len(x), len(y)))\n",
    "    for i in range(len(x)):\n",
    "        for j in range(len(y)):\n",
    "            res[i][j] = solution(x[i], y[j])\n",
    "    \n",
    "    return res\n"
   ]
  },
  {
   "cell_type": "markdown",
   "metadata": {},
   "source": [
    "Определим функции для решения СЛАУ"
   ]
  },
  {
   "cell_type": "code",
   "execution_count": 15,
   "metadata": {},
   "outputs": [],
   "source": [
    "def iterative(A, b, res, x, y, mapping):\n",
    "    n = A.shape[0]\n",
    "\n",
    "    alpha = np.zeros_like(A, dtype='float')\n",
    "    beta = np.zeros_like(b, dtype='float')\n",
    "    for i in range(n):\n",
    "        for j in range(n):\n",
    "            if i == j:\n",
    "                alpha[i][j] = 0\n",
    "            else:\n",
    "                alpha[i][j] = -A[i][j] / A[i][i]\n",
    "\n",
    "        beta[i] = b[i] / A[i][i]\n",
    "\n",
    "    iterations = 0\n",
    "    cur_x = np.copy(beta)\n",
    "    converge = False\n",
    "    while not converge:\n",
    "        prev_x = np.copy(cur_x)\n",
    "        cur_x = alpha @ prev_x + beta\n",
    "        iterations += 1\n",
    "        converge = L2_norm(prev_x - cur_x) <= 1e-7\n",
    "\n",
    "    for i in range(1, len(x)-1):\n",
    "        for j in range(1, len(y)-1):\n",
    "            res[i][j] = cur_x[mapping[i][j]]\n",
    "\n",
    "    return res\n"
   ]
  },
  {
   "cell_type": "code",
   "execution_count": 16,
   "metadata": {},
   "outputs": [],
   "source": [
    "def zeidel_multiplication(alpha, x, beta):\n",
    "    res = np.copy(x)\n",
    "    for i in range(alpha.shape[0]):\n",
    "        res[i] = beta[i]\n",
    "        for j in range(alpha.shape[1]):\n",
    "            res[i] += alpha[i][j] * res[j]\n",
    "    return res\n",
    "\n",
    "\n",
    "def zeidel(A, b, res, x, y, mapping):\n",
    "    n = A.shape[0]\n",
    "\n",
    "    alpha = np.zeros_like(A, dtype='float')\n",
    "    beta = np.zeros_like(b, dtype='float')\n",
    "    for i in range(n):\n",
    "        for j in range(n):\n",
    "            if i == j:\n",
    "                alpha[i][j] = 0\n",
    "            else:\n",
    "                alpha[i][j] = -A[i][j] / A[i][i]\n",
    "\n",
    "        beta[i] = b[i] / A[i][i]\n",
    "\n",
    "    iterations = 0\n",
    "    cur_x = np.copy(beta)\n",
    "    converge = False\n",
    "    while not converge:\n",
    "        prev_x = np.copy(cur_x)\n",
    "        cur_x = zeidel_multiplication(alpha, prev_x, beta)\n",
    "        iterations += 1\n",
    "        converge = L2_norm(prev_x - cur_x) <= 1e-7\n",
    "    \n",
    "    for i in range(1, len(x)-1):\n",
    "        for j in range(1, len(y)-1):\n",
    "            res[i][j] = cur_x[mapping[i][j]]\n",
    "\n",
    "    return res\n"
   ]
  },
  {
   "cell_type": "code",
   "execution_count": 17,
   "metadata": {},
   "outputs": [],
   "source": [
    "def relaxation(A, b, res, x, y, mapping):\n",
    "    w = 1.5\n",
    "    n = A.shape[0]\n",
    "\n",
    "    alpha = np.zeros_like(A, dtype='float')\n",
    "    beta = np.zeros_like(b, dtype='float')\n",
    "    for i in range(n):\n",
    "        for j in range(n):\n",
    "            if i == j:\n",
    "                alpha[i][j] = 0\n",
    "            else:\n",
    "                alpha[i][j] = -A[i][j] / A[i][i]\n",
    "\n",
    "        beta[i] = b[i] / A[i][i]\n",
    "\n",
    "    iterations = 0\n",
    "    cur_x = np.copy(beta)\n",
    "    converge = False\n",
    "    while not converge:\n",
    "        prev_x = np.copy(cur_x)\n",
    "        cur_x = zeidel_multiplication(alpha, prev_x, beta)\n",
    "        cur_x = w * cur_x + (1-w) * prev_x\n",
    "        iterations += 1\n",
    "        converge = L2_norm(prev_x - cur_x) <= 1e-7\n",
    "    \n",
    "    for i in range(1, len(x)-1):\n",
    "        for j in range(1, len(y)-1):\n",
    "            res[i][j] = cur_x[mapping[i][j]]\n",
    "\n",
    "    return res\n"
   ]
  },
  {
   "cell_type": "markdown",
   "metadata": {},
   "source": [
    "Получим решения СЛАУ"
   ]
  },
  {
   "cell_type": "code",
   "execution_count": 18,
   "metadata": {},
   "outputs": [],
   "source": [
    "iterative_solution = iterative(data['A'], data['b'], data['res'], data['x'], data['y'], data['mapping'])\n",
    "zeidel_solution = zeidel(data['A'], data['b'], data['res'], data['x'], data['y'], data['mapping'])\n",
    "relaxation_solution = relaxation(data['A'], data['b'], data['res'], data['x'], data['y'], data['mapping'])\n",
    "analytical_solution = analytical((x_begin, x_end), (y_begin, y_end), h_x, h_y)"
   ]
  },
  {
   "cell_type": "markdown",
   "metadata": {},
   "source": [
    "### Визуализация\n",
    "\n",
    "Полученные вычисления на момент времени 0.5\n"
   ]
  },
  {
   "cell_type": "code",
   "execution_count": 19,
   "metadata": {},
   "outputs": [
    {
     "data": {
      "image/png": "[encoded data removed]",
      "text/plain": [
       "<Figure size 1080x648 with 1 Axes>"
      ]
     },
     "metadata": {
      "needs_background": "light"
     },
     "output_type": "display_data"
    }
   ],
   "source": [
    "import matplotlib.pyplot as plt\n",
    "\n",
    "def plot_results(\n",
    "    iterative_solution,\n",
    "    zeidel_solution,\n",
    "    relaxation_solution,\n",
    "    cur_y,\n",
    "    x_range,\n",
    "    y_range,\n",
    "    h_x,\n",
    "    h_y,\n",
    "):\n",
    "    x = np.arange(*x_range, h_x)\n",
    "    y = np.arange(*y_range, h_y)\n",
    "    j = abs(y - cur_y).argmin()\n",
    "\n",
    "    plt.figure(figsize=(15, 9))\n",
    "    \n",
    "    plt.plot(x, iterative_solution[:, j], label='iterative solution')\n",
    "    plt.plot(x, zeidel_solution[:, j], label='zeidel solution')\n",
    "    plt.plot(x, relaxation_solution[:, j], label='relaxation solution')\n",
    "\n",
    "    plt.legend()\n",
    "    plt.grid()\n",
    "    plt.show()\n",
    "\n",
    "plot_results(\n",
    "    iterative_solution,\n",
    "    zeidel_solution,\n",
    "    relaxation_solution,\n",
    "    0.5,\n",
    "    (x_begin, x_end),\n",
    "    (y_begin, y_end),\n",
    "    h_x,\n",
    "    h_y\n",
    ")\n"
   ]
  },
  {
   "cell_type": "markdown",
   "metadata": {},
   "source": [
    "Изменение погрешности"
   ]
  },
  {
   "cell_type": "code",
   "execution_count": 20,
   "metadata": {},
   "outputs": [
    {
     "data": {
      "image/png": "[encoded data removed]",
      "text/plain": [
       "<Figure size 1080x648 with 1 Axes>"
      ]
     },
     "metadata": {
      "needs_background": "light"
     },
     "output_type": "display_data"
    }
   ],
   "source": [
    "def plot_errors(\n",
    "    iterative_solution,\n",
    "    zeidel_solution,\n",
    "    relaxation_solution,\n",
    "    analytical_solution,\n",
    "    y_range,\n",
    "    h_y,\n",
    "):\n",
    "    y = np.arange(*y_range, h_y)\n",
    "\n",
    "    plt.figure(figsize=(15, 9))\n",
    "    \n",
    "    iterative_err = np.array([max_abs_error(iterative_solution[:, i], analytical_solution[:, i]) for i in range(len(y))])\n",
    "    plt.plot(y, iterative_err, label='iterative solution')\n",
    "\n",
    "    zeidel_err = np.array([max_abs_error(zeidel_solution[:, i], analytical_solution[:, i]) for i in range(len(y))])\n",
    "    plt.plot(y, zeidel_err, label='zeidel solution')\n",
    "\n",
    "    relaxation_err = np.array([max_abs_error(relaxation_solution[:, i], analytical_solution[:, i]) for i in range(len(y))])\n",
    "    plt.plot(y, relaxation_err, label='relaxation solution')\n",
    "\n",
    "    plt.xlabel('y')\n",
    "    plt.ylabel('Max abs error')\n",
    "\n",
    "    plt.legend()\n",
    "    plt.grid()\n",
    "    plt.show()\n",
    "\n",
    "plot_errors(\n",
    "    iterative_solution,\n",
    "    zeidel_solution,\n",
    "    relaxation_solution,\n",
    "    analytical_solution,\n",
    "    (y_begin, y_end),\n",
    "    h_y\n",
    ")\n"
   ]
  }
 ],
 "metadata": {
  "kernelspec": {
   "display_name": "base",
   "language": "python",
   "name": "python3"
  },
  "language_info": {
   "codemirror_mode": {
    "name": "ipython",
    "version": 3
   },
   "file_extension": ".py",
   "mimetype": "text/x-python",
   "name": "python",
   "nbconvert_exporter": "python",
   "pygments_lexer": "ipython3",
   "version": "3.9.5"
  }
 },
 "nbformat": 4,
 "nbformat_minor": 2
}
