{
 "cells": [
  {
   "cell_type": "markdown",
   "metadata": {},
   "source": [
    "## Пример работы на датасете Wines"
   ]
  },
  {
   "cell_type": "markdown",
   "metadata": {},
   "source": [
    "Импортируем фреймворк"
   ]
  },
  {
   "cell_type": "code",
   "execution_count": 6,
   "metadata": {},
   "outputs": [],
   "source": [
    "import src.activation as activation\n",
    "import src.training as training\n",
    "import src.dataset as dataset\n",
    "import src.loss as loss\n",
    "import src.network as network\n",
    "import src.softmax as softmax\n",
    "import src.weights as weights\n"
   ]
  },
  {
   "cell_type": "markdown",
   "metadata": {},
   "source": [
    "Загружаем датасет из файла"
   ]
  },
  {
   "cell_type": "code",
   "execution_count": 7,
   "metadata": {},
   "outputs": [],
   "source": [
    "data = dataset.load('datasets/wine.data')\n",
    "for i in range(len(data.pairs)):\n",
    "    softmax.standardize(data.pairs[i].input)\n",
    "\n",
    "data.shuffle()\n"
   ]
  },
  {
   "cell_type": "markdown",
   "metadata": {},
   "source": [
    "Устанавливаем параметры для обучения"
   ]
  },
  {
   "cell_type": "code",
   "execution_count": 8,
   "metadata": {},
   "outputs": [],
   "source": [
    "n = network.Network(\n",
    "    config=network.Params(\n",
    "        inputs=len(data.pairs[0].input),\n",
    "        layout_config=[6, 3],\n",
    "        activation=activation.Activation.TANH,\n",
    "        mode=activation.Mode.MULTI_CLASS,\n",
    "        loss=loss.Loss.CROSS_ENTROPY,\n",
    "        weight=weights.new_normal(1, 0),\n",
    "        bias=True\n",
    "))\n",
    "\n",
    "trainer = training.Trainer(\n",
    "    solver=training.SGD(0.005, 0.5, 0.001), \n",
    "    verbosity=200\n",
    ")\n"
   ]
  },
  {
   "cell_type": "markdown",
   "metadata": {},
   "source": [
    "Обучаем"
   ]
  },
  {
   "cell_type": "code",
   "execution_count": 9,
   "metadata": {},
   "outputs": [],
   "source": [
    "res = trainer.train(\n",
    "    network=n,\n",
    "    examples=data,\n",
    "    validation=data,\n",
    "    iterations=2000\n",
    ")\n"
   ]
  },
  {
   "cell_type": "markdown",
   "metadata": {},
   "source": [
    "Результаты обучения"
   ]
  },
  {
   "cell_type": "code",
   "execution_count": 10,
   "metadata": {},
   "outputs": [
    {
     "name": "stdout",
     "output_type": "stream",
     "text": [
      "+--------+--------------------+---------------------+----------+\n",
      "| Epochs |      Elapsed       |        Loss         | Accuracy |\n",
      "+--------+--------------------+---------------------+----------+\n",
      "|  200   | 2.3284618854522705 | 0.22196016034328148 |   0.69   |\n",
      "|  400   | 4.664125919342041  | 0.19453892586440857 |   0.74   |\n",
      "|  600   | 6.908570766448975  | 0.1846338810061761  |   0.76   |\n",
      "|  800   |  9.17145586013794  | 0.16577626377684107 |   0.77   |\n",
      "|  1000  | 11.517337799072266 | 0.14659506818581616 |   0.78   |\n",
      "|  1200  | 13.720383882522583 | 0.09804545109048234 |   0.88   |\n",
      "|  1400  | 15.922541856765747 | 0.19808709811754324 |   0.76   |\n",
      "|  1600  | 18.110570907592773 | 0.1832766806078016  |   0.79   |\n",
      "|  1800  | 20.408809900283813 | 0.18079255013752768 |   0.79   |\n",
      "|  2000  | 22.658854961395264 | 0.07912698068574912 |   0.92   |\n",
      "+--------+--------------------+---------------------+----------+\n"
     ]
    }
   ],
   "source": [
    "res.flush_log()\n"
   ]
  }
 ],
 "metadata": {
  "kernelspec": {
   "display_name": "Python 3",
   "language": "python",
   "name": "python3"
  },
  "language_info": {
   "codemirror_mode": {
    "name": "ipython",
    "version": 3
   },
   "file_extension": ".py",
   "mimetype": "text/x-python",
   "name": "python",
   "nbconvert_exporter": "python",
   "pygments_lexer": "ipython3",
   "version": "3.11.11"
  }
 },
 "nbformat": 4,
 "nbformat_minor": 2
}
