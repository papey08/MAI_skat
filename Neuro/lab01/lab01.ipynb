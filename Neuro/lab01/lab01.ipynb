{
 "cells": [
  {
   "cell_type": "markdown",
   "metadata": {},
   "source": [
    "# Лабораторная работа №1\n",
    "## Персептроны. Процедура обучения Розенблатта\n",
    "\n",
    "Выполнил Попов Матвей\n",
    "\n",
    "Группа М8О-408Б-20\n",
    "\n",
    "Вариант 21"
   ]
  },
  {
   "cell_type": "markdown",
   "metadata": {},
   "source": [
    "### Однослойный персептрон"
   ]
  },
  {
   "cell_type": "markdown",
   "metadata": {},
   "source": [
    "* Для первой обучающей выборки построить и обучить сеть, которая будет \n",
    "правильно относить точки к двум классам. Отобразить дискриминантную линию и \n",
    "проверить качество обучения.\n",
    "\n",
    "* Изменить обучающее множество так, чтобы классы стали линейно неразделимыми. \n",
    "Проверить возможности обучения по правилу Розенблатта."
   ]
  },
  {
   "cell_type": "markdown",
   "metadata": {},
   "source": [
    "Импортируем необходимые библиотеки"
   ]
  },
  {
   "cell_type": "code",
   "execution_count": 104,
   "metadata": {},
   "outputs": [],
   "source": [
    "import numpy as np\n",
    "import matplotlib.pyplot as plt\n"
   ]
  },
  {
   "cell_type": "markdown",
   "metadata": {},
   "source": [
    "Выпишем точки из варианта"
   ]
  },
  {
   "cell_type": "code",
   "execution_count": 105,
   "metadata": {},
   "outputs": [],
   "source": [
    "x1 = [2.6, -4, -1.5, 0.2, -3.3, 4]\n",
    "y1 = [3.1, -3.3, -4.5, -1.7, -3, 1.7]\n",
    "\n",
    "c1 = [0, 1, 1, 0, 1, 0]\n"
   ]
  },
  {
   "cell_type": "markdown",
   "metadata": {},
   "source": [
    "Реализуем класс персептрона с полями `X` (список, где каждый элемент \n",
    "представляет собой вектор [1, x, y], где x и y - это координаты точки, а 1 - \n",
    "добавленный признак, который используется для вычисления весов) и `Y` (классы \n",
    "точек)."
   ]
  },
  {
   "cell_type": "code",
   "execution_count": 106,
   "metadata": {},
   "outputs": [],
   "source": [
    "class Perseptron:\n",
    "    X = list()\n",
    "    Y = list()\n",
    "\n",
    "    def __init__(self, x1, y1, c1) -> None:\n",
    "        self.X = [[1, *x] for x in list(zip(x1, y1))]\n",
    "        self.Y = c1\n",
    "\n",
    "    def activation(self, x):\n",
    "        if x < 0:\n",
    "            return 0\n",
    "        else:\n",
    "            return 1\n",
    "    \n",
    "    def fit(self, epochs=20, step=0.1):\n",
    "        weights = np.random.rand(3)\n",
    "        for _ in range(epochs):\n",
    "            for x, y in zip(self.X, self.Y):\n",
    "                ry = np.dot(x, weights)\n",
    "                act = self.activation(ry)\n",
    "                eps = y - act\n",
    "                if eps != 0:\n",
    "                    weights = weights + np.multiply(x, eps * step)\n",
    "        return weights\n"
   ]
  },
  {
   "cell_type": "markdown",
   "metadata": {},
   "source": [
    "Создадим персептрон и получим веса"
   ]
  },
  {
   "cell_type": "code",
   "execution_count": 107,
   "metadata": {},
   "outputs": [],
   "source": [
    "p = Perseptron(x1, y1, c1)\n",
    "weigths = p.fit()\n"
   ]
  },
  {
   "cell_type": "markdown",
   "metadata": {},
   "source": [
    "Изобразим на графике точки и разделяющую их прямую, точки, относящиеся к классу \n",
    "`0`, обозначены красным цветом, к классу `1` — синим."
   ]
  },
  {
   "cell_type": "code",
   "execution_count": 108,
   "metadata": {},
   "outputs": [
    {
     "name": "stderr",
     "output_type": "stream",
     "text": [
      "C:\\Users\\papey08\\AppData\\Local\\Temp/ipykernel_13276/632385456.py:4: UserWarning: color is redundantly defined by the 'color' keyword argument and the fmt string \"ro\" (-> color='r'). The keyword argument will take precedence.\n",
      "  plt.plot(X[i][0], X[i][1], 'ro', color='r' if c1[i] == 0 else 'b')\n"
     ]
    },
    {
     "data": {
      "image/png": "[encoded data removed]",
      "text/plain": [
       "<Figure size 432x288 with 1 Axes>"
      ]
     },
     "metadata": {
      "needs_background": "light"
     },
     "output_type": "display_data"
    }
   ],
   "source": [
    "\n",
    "def show_points(x1, y1, c1):\n",
    "    X = list(zip(x1, y1))\n",
    "    for i in range(len(X)):\n",
    "        plt.plot(X[i][0], X[i][1], 'ro', color='r' if c1[i] == 0 else 'b')\n",
    "\n",
    "def show_line(weigths):\n",
    "    def calc_y(x):\n",
    "        return -weigths[1]*x/weigths[2] - weigths[0]/weigths[2]\n",
    "    pts = np.array([-4,4])\n",
    "    plt.plot(pts, calc_y(pts))\n",
    "\n",
    "show_points(x1, y1, c1)\n",
    "show_line(weigths)\n"
   ]
  },
  {
   "cell_type": "markdown",
   "metadata": {},
   "source": [
    "Как видим, прямая, построенная по весам, полученным от персептрона, разделяет \n",
    "точки, относящиеся к разным классам. Теперь попробуем разделить с помощью \n",
    "персептрона точки, которые невозможно разделить прямой."
   ]
  },
  {
   "cell_type": "code",
   "execution_count": 109,
   "metadata": {},
   "outputs": [
    {
     "name": "stderr",
     "output_type": "stream",
     "text": [
      "C:\\Users\\papey08\\AppData\\Local\\Temp/ipykernel_13276/632385456.py:4: UserWarning: color is redundantly defined by the 'color' keyword argument and the fmt string \"ro\" (-> color='r'). The keyword argument will take precedence.\n",
      "  plt.plot(X[i][0], X[i][1], 'ro', color='r' if c1[i] == 0 else 'b')\n"
     ]
    },
    {
     "data": {
      "image/png": "[encoded data removed]",
      "text/plain": [
       "<Figure size 432x288 with 1 Axes>"
      ]
     },
     "metadata": {
      "needs_background": "light"
     },
     "output_type": "display_data"
    }
   ],
   "source": [
    "x1 = [-4, -2, -1, 1, 2, 4]\n",
    "y1 = [0, 0, 0, 0, 0, 0]\n",
    "c1 = [1, 0, 1, 0, 1, 0]\n",
    "\n",
    "show_points(x1, y1, c1)\n"
   ]
  },
  {
   "cell_type": "code",
   "execution_count": 110,
   "metadata": {},
   "outputs": [],
   "source": [
    "p = Perseptron(x1, y1, c1)\n",
    "weigths = p.fit()\n"
   ]
  },
  {
   "cell_type": "code",
   "execution_count": 111,
   "metadata": {},
   "outputs": [
    {
     "name": "stderr",
     "output_type": "stream",
     "text": [
      "C:\\Users\\papey08\\AppData\\Local\\Temp/ipykernel_13276/632385456.py:4: UserWarning: color is redundantly defined by the 'color' keyword argument and the fmt string \"ro\" (-> color='r'). The keyword argument will take precedence.\n",
      "  plt.plot(X[i][0], X[i][1], 'ro', color='r' if c1[i] == 0 else 'b')\n"
     ]
    },
    {
     "data": {
      "image/png": "[encoded data removed]",
      "text/plain": [
       "<Figure size 432x288 with 1 Axes>"
      ]
     },
     "metadata": {
      "needs_background": "light"
     },
     "output_type": "display_data"
    }
   ],
   "source": [
    "show_points(x1, y1, c1)\n",
    "show_line(weigths)\n"
   ]
  },
  {
   "cell_type": "markdown",
   "metadata": {},
   "source": [
    "Персептрон не справился. Никто бы не справился."
   ]
  },
  {
   "cell_type": "markdown",
   "metadata": {},
   "source": [
    "## Двуслойный персептрон"
   ]
  },
  {
   "cell_type": "markdown",
   "metadata": {},
   "source": [
    "* Для второй обучающей выборки построить и обучить сеть, которая будет \n",
    "правильно относить точки к четырем классам. Отобразить дискриминантную линию и \n",
    "проверить качество обучения."
   ]
  },
  {
   "cell_type": "markdown",
   "metadata": {},
   "source": [
    "Выпишем точки из варианта"
   ]
  },
  {
   "cell_type": "code",
   "execution_count": 112,
   "metadata": {},
   "outputs": [],
   "source": [
    "x2 = [[-1.2, 0.8],\n",
    "      [-2.5, -2.1],\n",
    "      [1.1, -2.4],\n",
    "      [3.2, 4.8],\n",
    "      [2.3, -1.6],\n",
    "      [0.8, -4],\n",
    "      [4, -3.7],\n",
    "      [3.1, -2.4]]\n",
    "\n",
    "c2 = [[1,1],\n",
    "      [1,1],\n",
    "      [0,1],\n",
    "      [1,0],\n",
    "      [0,0],\n",
    "      [0,1],\n",
    "      [0,0],\n",
    "      [0,0]]\n"
   ]
  },
  {
   "cell_type": "markdown",
   "metadata": {},
   "source": [
    "Реализуем двуслойный персептрон"
   ]
  },
  {
   "cell_type": "code",
   "execution_count": 113,
   "metadata": {},
   "outputs": [],
   "source": [
    "class NewPerseptron:\n",
    "    X = list()\n",
    "    Y = list()\n",
    "\n",
    "    def __init__(self, x2, c2) -> None:\n",
    "        self.X = [[1, *x] for x in x2]\n",
    "        self.Y = c2\n",
    "\n",
    "    def forward(self, x, w):\n",
    "        return self.activation(np.dot(x, w))\n",
    "    \n",
    "    def activation(self, t):\n",
    "        return np.array([0 if y < 0 else 1 for y in t])\n",
    "    \n",
    "    def fit(self, epochs=100, step=0.01):\n",
    "        weights = np.random.rand(3, 2).tolist()\n",
    "        for _ in range(epochs):\n",
    "            for x, y in zip(self.X, self.Y):\n",
    "                actr = self.forward(x, weights)\n",
    "                diff = y - actr\n",
    "                if np.count_nonzero(diff) > 0:\n",
    "                    for i in range(3):\n",
    "                        for j in range(2):\n",
    "                            weights[i][j] = weights[i][j] + step*x[i]*diff[j]\n",
    "        return weights"
   ]
  },
  {
   "cell_type": "markdown",
   "metadata": {},
   "source": [
    "Создадим персептрон и обучим веса"
   ]
  },
  {
   "cell_type": "code",
   "execution_count": 114,
   "metadata": {},
   "outputs": [],
   "source": [
    "p = NewPerseptron(x2, c2)\n",
    "weights = p.fit()"
   ]
  },
  {
   "cell_type": "markdown",
   "metadata": {},
   "source": [
    "Изобразим точки на графике, относящиеся к одному классу точки обозначим одним \n",
    "цветом. Попробуем разделить эти точки прямыми, полученными из весов персептрона."
   ]
  },
  {
   "cell_type": "code",
   "execution_count": 115,
   "metadata": {},
   "outputs": [
    {
     "name": "stderr",
     "output_type": "stream",
     "text": [
      "C:\\Users\\papey08\\AppData\\Local\\Temp/ipykernel_13276/1007037182.py:15: UserWarning: color is redundantly defined by the 'color' keyword argument and the fmt string \"ro\" (-> color='r'). The keyword argument will take precedence.\n",
      "  plt.plot(x, y, 'ro', color=choose_color(c2[i]))\n"
     ]
    },
    {
     "data": {
      "image/png": "[encoded data removed]",
      "text/plain": [
       "<Figure size 432x288 with 1 Axes>"
      ]
     },
     "metadata": {
      "needs_background": "light"
     },
     "output_type": "display_data"
    }
   ],
   "source": [
    "plt.ylim(-5,5)\n",
    "plt.xlim(-5,5)\n",
    "\n",
    "for i in range(len(x2)):\n",
    "    def choose_color(c):\n",
    "        if c == [0, 0]:\n",
    "            return 'r'\n",
    "        elif c == [0, 1]:\n",
    "            return 'g'\n",
    "        elif c == [1, 0]:\n",
    "            return 'b'\n",
    "        else:\n",
    "            return 'y'\n",
    "    [x, y] = x2[i]\n",
    "    plt.plot(x, y, 'ro', color=choose_color(c2[i]))\n",
    "\n",
    "show_line(np.transpose(weights)[0])\n",
    "show_line(np.transpose(weights)[1])"
   ]
  },
  {
   "cell_type": "markdown",
   "metadata": {},
   "source": [
    "Как видим, двуслойный персептрон смог разделить 4 класса точек двумя прямыми."
   ]
  },
  {
   "cell_type": "markdown",
   "metadata": {},
   "source": [
    "## Вывод\n",
    "\n",
    "Проделав лабораторную работу, я реализовал однослойный и двуслойный персептроны, \n",
    "которые могут решать задачи классификации.\n"
   ]
  }
 ],
 "metadata": {
  "kernelspec": {
   "display_name": "base",
   "language": "python",
   "name": "python3"
  },
  "language_info": {
   "codemirror_mode": {
    "name": "ipython",
    "version": 3
   },
   "file_extension": ".py",
   "mimetype": "text/x-python",
   "name": "python",
   "nbconvert_exporter": "python",
   "pygments_lexer": "ipython3",
   "version": "3.9.5"
  },
  "orig_nbformat": 4
 },
 "nbformat": 4,
 "nbformat_minor": 2
}
