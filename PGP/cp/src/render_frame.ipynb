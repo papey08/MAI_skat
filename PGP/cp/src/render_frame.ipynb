{
 "cells": [
  {
   "cell_type": "markdown",
   "metadata": {},
   "source": [
    "# Рендеринг кадра\n",
    "\n",
    "Запустите все ячейки, чтобы отрендерить один кадр разрешением 800 на 800 \n",
    "пикселей\n",
    "\n",
    "**ВАЖНО! Должен быть установлен компилятор nvcc**\n"
   ]
  },
  {
   "cell_type": "markdown",
   "metadata": {},
   "source": [
    "Запускаем рендеринг"
   ]
  },
  {
   "cell_type": "code",
   "execution_count": null,
   "metadata": {},
   "outputs": [],
   "source": [
    "!nvcc --std=c++11 main.cu -o main && ./main --default"
   ]
  },
  {
   "cell_type": "markdown",
   "metadata": {},
   "source": [
    "Конвертируем полученный кадр в формат png."
   ]
  },
  {
   "cell_type": "code",
   "execution_count": null,
   "metadata": {},
   "outputs": [],
   "source": [
    "from PIL import Image\n",
    "import struct\n",
    "import ctypes\n",
    "\n",
    "png_path = 'frame.png'\n",
    "data_path = '0.data'\n",
    "\n",
    "fin = open(data_path, 'rb')\n",
    "(w, h) = struct.unpack('hi', fin.read(8))\n",
    "buff = ctypes.create_string_buffer(4 * w * h)\n",
    "fin.readinto(buff)\n",
    "fin.close()\n",
    "img = Image.new('RGBA', (w, h))\n",
    "pix = img.load()\n",
    "offset = 0\n",
    "for j in range(h):\n",
    "    for i in range(w):\n",
    "        (r, g, b, a) = struct.unpack_from('cccc', buff, offset)\n",
    "        pix[i, j] = (ord(r), ord(g), ord(b), ord(a))\n",
    "        offset += 4\n",
    "img.save(png_path)\n"
   ]
  },
  {
   "cell_type": "markdown",
   "metadata": {},
   "source": [
    "Удаляем ненужные файлы"
   ]
  },
  {
   "cell_type": "code",
   "execution_count": null,
   "metadata": {},
   "outputs": [],
   "source": [
    "!rm 0.data"
   ]
  }
 ],
 "metadata": {
  "kernelspec": {
   "display_name": "base",
   "language": "python",
   "name": "python3"
  },
  "language_info": {
   "name": "python",
   "version": "3.9.5"
  }
 },
 "nbformat": 4,
 "nbformat_minor": 2
}
