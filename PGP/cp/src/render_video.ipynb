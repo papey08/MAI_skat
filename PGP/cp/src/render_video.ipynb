{
 "cells": [
  {
   "cell_type": "markdown",
   "metadata": {},
   "source": [
    "# Рендеринг видеоролика\n",
    "\n",
    "Запустите все ячейки, чтобы отрендерить 20-секундное видео разрешением 640 \n",
    "на 480 и частотой 24 кадра в секунду\n",
    "\n",
    "**ВАЖНО! Должны быть установлены компилятор nvcc и opencv**\n"
   ]
  },
  {
   "cell_type": "markdown",
   "metadata": {},
   "source": [
    "Создаём файл с конфигурационными параметрами"
   ]
  },
  {
   "cell_type": "code",
   "execution_count": null,
   "metadata": {},
   "outputs": [],
   "source": [
    "file = open('.configs.txt', 'w')\n",
    "file.write('480')\n",
    "file.write('.res/%d.data')\n",
    "file.write('640 480 90')\n",
    "file.write('7 3 0 2 1 2 6 1 0 0')\n",
    "file.write('2 0 0 0.5 0.1 1 4 1 0 0')\n",
    "file.write('0 -2 0 1 0 0 1')\n",
    "file.write('0 0 0 0 1 0 1')\n",
    "file.write('0 2 0 0 0 1 1')\n",
    "file.write('-5 -5 -1 -5 5 -1 5 5 -1 5 -5 -1 1 1 1')\n",
    "file.write('10 0 15 0.294118 0.196078 0.0980392 4')\n",
    "file.close()\n"
   ]
  },
  {
   "cell_type": "markdown",
   "metadata": {},
   "source": [
    "Создаём папку для кадров"
   ]
  },
  {
   "cell_type": "code",
   "execution_count": null,
   "metadata": {},
   "outputs": [],
   "source": [
    "!mkdir .res"
   ]
  },
  {
   "cell_type": "code",
   "execution_count": null,
   "metadata": {},
   "outputs": [],
   "source": [
    "!mkdir .res_png"
   ]
  },
  {
   "cell_type": "markdown",
   "metadata": {},
   "source": [
    "Запускаем рендеринг"
   ]
  },
  {
   "cell_type": "code",
   "execution_count": null,
   "metadata": {},
   "outputs": [],
   "source": [
    "!nvcc --std=c++11 main.cu -o main && ./main < .configs.txt"
   ]
  },
  {
   "cell_type": "markdown",
   "metadata": {},
   "source": [
    "Конвертируем полученные кадры в формат png."
   ]
  },
  {
   "cell_type": "code",
   "execution_count": null,
   "metadata": {},
   "outputs": [],
   "source": [
    "from PIL import Image\n",
    "import struct\n",
    "import ctypes\n",
    "\n",
    "def from_data_to_png(png_path, data_path):\n",
    "    fin = open(data_path, 'rb')\n",
    "    (w, h) = struct.unpack('hi', fin.read(8))\n",
    "    buff = ctypes.create_string_buffer(4 * w * h)\n",
    "    fin.readinto(buff)\n",
    "    fin.close()\n",
    "    img = Image.new('RGBA', (w, h))\n",
    "    pix = img.load()\n",
    "    offset = 0\n",
    "    for j in range(h):\n",
    "        for i in range(w):\n",
    "            (r, g, b, a) = struct.unpack_from('cccc', buff, offset)\n",
    "            pix[i, j] = (ord(r), ord(g), ord(b), ord(a))\n",
    "            offset += 4\n",
    "    img.save(png_path)\n",
    "\n",
    "for i in range(480):\n",
    "    from_data_to_png('.res_png/'+str(i)+'.png', '.res/'+str(i)+'.data')\n"
   ]
  },
  {
   "cell_type": "markdown",
   "metadata": {},
   "source": [
    "Создаём видео из полученных кадров"
   ]
  },
  {
   "cell_type": "code",
   "execution_count": null,
   "metadata": {},
   "outputs": [],
   "source": [
    "import cv2\n",
    "import os\n",
    "\n",
    "input_directory = '.res_png'\n",
    "output_video = 'video.mp4'\n",
    "frame_rate = 24\n",
    "\n",
    "image_files = [f for f in os.listdir(input_directory) if f.endswith('.png')]\n",
    "image_files.sort(key=lambda x: int(x[:-4]))\n",
    "\n",
    "image_path = os.path.join(input_directory, image_files[0])\n",
    "img = cv2.imread(image_path)\n",
    "height, width, _ = img.shape\n",
    "video = cv2.VideoWriter(output_video, cv2.VideoWriter_fourcc(*'mp4v'), frame_rate, (width, height))\n",
    "\n",
    "for image_file in image_files:\n",
    "    image_path = os.path.join(input_directory, image_file)\n",
    "    img = cv2.imread(image_path)\n",
    "    video.write(img)\n",
    "\n",
    "cv2.destroyAllWindows()\n",
    "video.release()\n"
   ]
  },
  {
   "cell_type": "markdown",
   "metadata": {},
   "source": [
    "Удаляем ненужные файлы"
   ]
  },
  {
   "cell_type": "code",
   "execution_count": null,
   "metadata": {},
   "outputs": [],
   "source": [
    "!rm -rf .res"
   ]
  },
  {
   "cell_type": "code",
   "execution_count": null,
   "metadata": {},
   "outputs": [],
   "source": [
    "!rm -rf .res_png"
   ]
  },
  {
   "cell_type": "code",
   "execution_count": null,
   "metadata": {},
   "outputs": [],
   "source": [
    "!rm .configs.txt"
   ]
  }
 ],
 "metadata": {
  "kernelspec": {
   "display_name": "base",
   "language": "python",
   "name": "python3"
  },
  "language_info": {
   "name": "python",
   "version": "3.9.5"
  }
 },
 "nbformat": 4,
 "nbformat_minor": 2
}
